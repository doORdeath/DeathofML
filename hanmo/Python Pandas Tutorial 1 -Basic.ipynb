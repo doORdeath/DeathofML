{
 "cells": [
  {
   "cell_type": "markdown",
   "metadata": {},
   "source": [
    "# Python Pandas Tutorial 1 - Basic"
   ]
  },
  {
   "cell_type": "code",
   "execution_count": 2,
   "metadata": {
    "collapsed": true
   },
   "outputs": [],
   "source": [
    "import pandas as pd\n",
    "import numpy as np\n",
    "import matplotlib.pyplot as plt"
   ]
  },
  {
   "cell_type": "markdown",
   "metadata": {},
   "source": [
    "## Pandas의 Object 생성\n",
    "### 1. Series\n",
    "#### Series는 간단하게 리스트라고 생각하면 된다."
   ]
  },
  {
   "cell_type": "code",
   "execution_count": 3,
   "metadata": {
    "collapsed": false
   },
   "outputs": [
    {
     "name": "stdout",
     "output_type": "stream",
     "text": [
      "0     1.0\n",
      "1     2.0\n",
      "2     3.0\n",
      "3     4.0\n",
      "4     NaN\n",
      "5    10.0\n",
      "6    11.0\n",
      "dtype: float64\n"
     ]
    }
   ],
   "source": [
    "seri = pd.Series([1,2,3,4,np.nan,10,11])\n",
    "print (seri)"
   ]
  },
  {
   "cell_type": "markdown",
   "metadata": {},
   "source": [
    "### 2. DataFrame\n",
    "####  numpy array를 이용한 DataFrame"
   ]
  },
  {
   "cell_type": "code",
   "execution_count": 4,
   "metadata": {
    "collapsed": false
   },
   "outputs": [
    {
     "name": "stdout",
     "output_type": "stream",
     "text": [
      "DatetimeIndex(['2016-08-26', '2016-08-27', '2016-08-28', '2016-08-29',\n",
      "               '2016-08-30', '2016-08-31'],\n",
      "              dtype='datetime64[ns]', freq='D')\n",
      "                   A         B         C         D\n",
      "2016-08-26 -0.357120 -1.481568 -1.499992  0.429845\n",
      "2016-08-27  0.804857  0.095787  2.080690 -1.731909\n",
      "2016-08-28  0.220897 -0.084630  1.078008 -0.453735\n",
      "2016-08-29  0.876448  0.365473 -1.374547 -0.492828\n",
      "2016-08-30  0.130722 -0.738123 -1.379580 -1.393377\n",
      "2016-08-31  0.778661 -2.472052 -1.302779 -0.007345\n"
     ]
    }
   ],
   "source": [
    "#date_range - 날짜 데이터 생성, periods = 일수\n",
    "dates = pd.date_range('20160826',periods=6)\n",
    "print(dates)\n",
    "\n",
    "# index = Row\n",
    "df = pd.DataFrame(np.random.randn(6,4), index=dates, columns = list('ABCD'))\n",
    "print (df)"
   ]
  },
  {
   "cell_type": "markdown",
   "metadata": {},
   "source": [
    "#### dict object를 이용한  DataFrame"
   ]
  },
  {
   "cell_type": "code",
   "execution_count": 5,
   "metadata": {
    "collapsed": false
   },
   "outputs": [
    {
     "name": "stdout",
     "output_type": "stream",
     "text": [
      "     A          B    C  D      E    F\n",
      "0  1.0 2016-08-28  1.0  3   test  foo\n",
      "1  1.0 2016-08-28  1.0  3  train  foo\n",
      "2  1.0 2016-08-28  1.0  3   test  foo\n",
      "3  1.0 2016-08-28  1.0  3  train  foo\n",
      "A           float64\n",
      "B    datetime64[ns]\n",
      "C           float32\n",
      "D             int32\n",
      "E          category\n",
      "F            object\n",
      "dtype: object\n"
     ]
    }
   ],
   "source": [
    "df2 = pd.DataFrame({\n",
    "        'A' : 1.,\n",
    "        'B' : pd.Timestamp('20160828'),\n",
    "        'C' : pd.Series(1,index=list(range(4)),dtype='float32'),\n",
    "        'D' : np.array([3] * 4, dtype ='int32'),\n",
    "        'E' : pd.Categorical([\"test\",\"train\",\"test\",\"train\"]),\n",
    "        'F' : 'foo'\n",
    "    })\n",
    "print (df2)\n",
    "print (df2.dtypes)"
   ]
  },
  {
   "cell_type": "markdown",
   "metadata": {
    "collapsed": true
   },
   "source": [
    "## Data View"
   ]
  },
  {
   "cell_type": "code",
   "execution_count": 9,
   "metadata": {
    "collapsed": false
   },
   "outputs": [
    {
     "data": {
      "text/html": [
       "<div>\n",
       "<table border=\"1\" class=\"dataframe\">\n",
       "  <thead>\n",
       "    <tr style=\"text-align: right;\">\n",
       "      <th></th>\n",
       "      <th>A</th>\n",
       "      <th>B</th>\n",
       "      <th>C</th>\n",
       "      <th>D</th>\n",
       "    </tr>\n",
       "  </thead>\n",
       "  <tbody>\n",
       "    <tr>\n",
       "      <th>2016-08-26</th>\n",
       "      <td>-0.357120</td>\n",
       "      <td>-1.481568</td>\n",
       "      <td>-1.499992</td>\n",
       "      <td>0.429845</td>\n",
       "    </tr>\n",
       "    <tr>\n",
       "      <th>2016-08-27</th>\n",
       "      <td>0.804857</td>\n",
       "      <td>0.095787</td>\n",
       "      <td>2.080690</td>\n",
       "      <td>-1.731909</td>\n",
       "    </tr>\n",
       "    <tr>\n",
       "      <th>2016-08-28</th>\n",
       "      <td>0.220897</td>\n",
       "      <td>-0.084630</td>\n",
       "      <td>1.078008</td>\n",
       "      <td>-0.453735</td>\n",
       "    </tr>\n",
       "    <tr>\n",
       "      <th>2016-08-29</th>\n",
       "      <td>0.876448</td>\n",
       "      <td>0.365473</td>\n",
       "      <td>-1.374547</td>\n",
       "      <td>-0.492828</td>\n",
       "    </tr>\n",
       "    <tr>\n",
       "      <th>2016-08-30</th>\n",
       "      <td>0.130722</td>\n",
       "      <td>-0.738123</td>\n",
       "      <td>-1.379580</td>\n",
       "      <td>-1.393377</td>\n",
       "    </tr>\n",
       "  </tbody>\n",
       "</table>\n",
       "</div>"
      ],
      "text/plain": [
       "                   A         B         C         D\n",
       "2016-08-26 -0.357120 -1.481568 -1.499992  0.429845\n",
       "2016-08-27  0.804857  0.095787  2.080690 -1.731909\n",
       "2016-08-28  0.220897 -0.084630  1.078008 -0.453735\n",
       "2016-08-29  0.876448  0.365473 -1.374547 -0.492828\n",
       "2016-08-30  0.130722 -0.738123 -1.379580 -1.393377"
      ]
     },
     "execution_count": 9,
     "metadata": {},
     "output_type": "execute_result"
    }
   ],
   "source": [
    "df.head()"
   ]
  },
  {
   "cell_type": "code",
   "execution_count": 10,
   "metadata": {
    "collapsed": false
   },
   "outputs": [
    {
     "data": {
      "text/html": [
       "<div>\n",
       "<table border=\"1\" class=\"dataframe\">\n",
       "  <thead>\n",
       "    <tr style=\"text-align: right;\">\n",
       "      <th></th>\n",
       "      <th>A</th>\n",
       "      <th>B</th>\n",
       "      <th>C</th>\n",
       "      <th>D</th>\n",
       "    </tr>\n",
       "  </thead>\n",
       "  <tbody>\n",
       "    <tr>\n",
       "      <th>2016-08-29</th>\n",
       "      <td>0.876448</td>\n",
       "      <td>0.365473</td>\n",
       "      <td>-1.374547</td>\n",
       "      <td>-0.492828</td>\n",
       "    </tr>\n",
       "    <tr>\n",
       "      <th>2016-08-30</th>\n",
       "      <td>0.130722</td>\n",
       "      <td>-0.738123</td>\n",
       "      <td>-1.379580</td>\n",
       "      <td>-1.393377</td>\n",
       "    </tr>\n",
       "    <tr>\n",
       "      <th>2016-08-31</th>\n",
       "      <td>0.778661</td>\n",
       "      <td>-2.472052</td>\n",
       "      <td>-1.302779</td>\n",
       "      <td>-0.007345</td>\n",
       "    </tr>\n",
       "  </tbody>\n",
       "</table>\n",
       "</div>"
      ],
      "text/plain": [
       "                   A         B         C         D\n",
       "2016-08-29  0.876448  0.365473 -1.374547 -0.492828\n",
       "2016-08-30  0.130722 -0.738123 -1.379580 -1.393377\n",
       "2016-08-31  0.778661 -2.472052 -1.302779 -0.007345"
      ]
     },
     "execution_count": 10,
     "metadata": {},
     "output_type": "execute_result"
    }
   ],
   "source": [
    "df.tail(3)"
   ]
  },
  {
   "cell_type": "code",
   "execution_count": 11,
   "metadata": {
    "collapsed": false
   },
   "outputs": [
    {
     "data": {
      "text/plain": [
       "DatetimeIndex(['2016-08-26', '2016-08-27', '2016-08-28', '2016-08-29',\n",
       "               '2016-08-30', '2016-08-31'],\n",
       "              dtype='datetime64[ns]', freq='D')"
      ]
     },
     "execution_count": 11,
     "metadata": {},
     "output_type": "execute_result"
    }
   ],
   "source": [
    "df.index"
   ]
  },
  {
   "cell_type": "code",
   "execution_count": 12,
   "metadata": {
    "collapsed": false
   },
   "outputs": [
    {
     "data": {
      "text/plain": [
       "array([[-0.35712037, -1.48156805, -1.49999237,  0.42984471],\n",
       "       [ 0.80485738,  0.09578689,  2.08068983, -1.73190872],\n",
       "       [ 0.22089734, -0.08462989,  1.07800782, -0.45373546],\n",
       "       [ 0.87644799,  0.36547316, -1.37454656, -0.49282819],\n",
       "       [ 0.13072167, -0.73812313, -1.37957971, -1.39337687],\n",
       "       [ 0.77866057, -2.47205155, -1.30277898, -0.00734503]])"
      ]
     },
     "execution_count": 12,
     "metadata": {},
     "output_type": "execute_result"
    }
   ],
   "source": [
    "df.values"
   ]
  },
  {
   "cell_type": "code",
   "execution_count": 13,
   "metadata": {
    "collapsed": false
   },
   "outputs": [
    {
     "data": {
      "text/html": [
       "<div>\n",
       "<table border=\"1\" class=\"dataframe\">\n",
       "  <thead>\n",
       "    <tr style=\"text-align: right;\">\n",
       "      <th></th>\n",
       "      <th>A</th>\n",
       "      <th>B</th>\n",
       "      <th>C</th>\n",
       "      <th>D</th>\n",
       "    </tr>\n",
       "  </thead>\n",
       "  <tbody>\n",
       "    <tr>\n",
       "      <th>count</th>\n",
       "      <td>6.000000</td>\n",
       "      <td>6.000000</td>\n",
       "      <td>6.000000</td>\n",
       "      <td>6.000000</td>\n",
       "    </tr>\n",
       "    <tr>\n",
       "      <th>mean</th>\n",
       "      <td>0.409077</td>\n",
       "      <td>-0.719185</td>\n",
       "      <td>-0.399700</td>\n",
       "      <td>-0.608225</td>\n",
       "    </tr>\n",
       "    <tr>\n",
       "      <th>std</th>\n",
       "      <td>0.492264</td>\n",
       "      <td>1.086043</td>\n",
       "      <td>1.566693</td>\n",
       "      <td>0.819141</td>\n",
       "    </tr>\n",
       "    <tr>\n",
       "      <th>min</th>\n",
       "      <td>-0.357120</td>\n",
       "      <td>-2.472052</td>\n",
       "      <td>-1.499992</td>\n",
       "      <td>-1.731909</td>\n",
       "    </tr>\n",
       "    <tr>\n",
       "      <th>25%</th>\n",
       "      <td>0.153266</td>\n",
       "      <td>-1.295707</td>\n",
       "      <td>-1.378321</td>\n",
       "      <td>-1.168240</td>\n",
       "    </tr>\n",
       "    <tr>\n",
       "      <th>50%</th>\n",
       "      <td>0.499779</td>\n",
       "      <td>-0.411377</td>\n",
       "      <td>-1.338663</td>\n",
       "      <td>-0.473282</td>\n",
       "    </tr>\n",
       "    <tr>\n",
       "      <th>75%</th>\n",
       "      <td>0.798308</td>\n",
       "      <td>0.050683</td>\n",
       "      <td>0.482811</td>\n",
       "      <td>-0.118943</td>\n",
       "    </tr>\n",
       "    <tr>\n",
       "      <th>max</th>\n",
       "      <td>0.876448</td>\n",
       "      <td>0.365473</td>\n",
       "      <td>2.080690</td>\n",
       "      <td>0.429845</td>\n",
       "    </tr>\n",
       "  </tbody>\n",
       "</table>\n",
       "</div>"
      ],
      "text/plain": [
       "              A         B         C         D\n",
       "count  6.000000  6.000000  6.000000  6.000000\n",
       "mean   0.409077 -0.719185 -0.399700 -0.608225\n",
       "std    0.492264  1.086043  1.566693  0.819141\n",
       "min   -0.357120 -2.472052 -1.499992 -1.731909\n",
       "25%    0.153266 -1.295707 -1.378321 -1.168240\n",
       "50%    0.499779 -0.411377 -1.338663 -0.473282\n",
       "75%    0.798308  0.050683  0.482811 -0.118943\n",
       "max    0.876448  0.365473  2.080690  0.429845"
      ]
     },
     "execution_count": 13,
     "metadata": {},
     "output_type": "execute_result"
    }
   ],
   "source": [
    "df.describe()"
   ]
  },
  {
   "cell_type": "markdown",
   "metadata": {},
   "source": [
    "### dataframe transpose"
   ]
  },
  {
   "cell_type": "code",
   "execution_count": 16,
   "metadata": {
    "collapsed": false
   },
   "outputs": [
    {
     "data": {
      "text/html": [
       "<div>\n",
       "<table border=\"1\" class=\"dataframe\">\n",
       "  <thead>\n",
       "    <tr style=\"text-align: right;\">\n",
       "      <th></th>\n",
       "      <th>2016-08-26 00:00:00</th>\n",
       "      <th>2016-08-27 00:00:00</th>\n",
       "      <th>2016-08-28 00:00:00</th>\n",
       "      <th>2016-08-29 00:00:00</th>\n",
       "      <th>2016-08-30 00:00:00</th>\n",
       "      <th>2016-08-31 00:00:00</th>\n",
       "    </tr>\n",
       "  </thead>\n",
       "  <tbody>\n",
       "    <tr>\n",
       "      <th>A</th>\n",
       "      <td>-0.357120</td>\n",
       "      <td>0.804857</td>\n",
       "      <td>0.220897</td>\n",
       "      <td>0.876448</td>\n",
       "      <td>0.130722</td>\n",
       "      <td>0.778661</td>\n",
       "    </tr>\n",
       "    <tr>\n",
       "      <th>B</th>\n",
       "      <td>-1.481568</td>\n",
       "      <td>0.095787</td>\n",
       "      <td>-0.084630</td>\n",
       "      <td>0.365473</td>\n",
       "      <td>-0.738123</td>\n",
       "      <td>-2.472052</td>\n",
       "    </tr>\n",
       "    <tr>\n",
       "      <th>C</th>\n",
       "      <td>-1.499992</td>\n",
       "      <td>2.080690</td>\n",
       "      <td>1.078008</td>\n",
       "      <td>-1.374547</td>\n",
       "      <td>-1.379580</td>\n",
       "      <td>-1.302779</td>\n",
       "    </tr>\n",
       "    <tr>\n",
       "      <th>D</th>\n",
       "      <td>0.429845</td>\n",
       "      <td>-1.731909</td>\n",
       "      <td>-0.453735</td>\n",
       "      <td>-0.492828</td>\n",
       "      <td>-1.393377</td>\n",
       "      <td>-0.007345</td>\n",
       "    </tr>\n",
       "  </tbody>\n",
       "</table>\n",
       "</div>"
      ],
      "text/plain": [
       "   2016-08-26  2016-08-27  2016-08-28  2016-08-29  2016-08-30  2016-08-31\n",
       "A   -0.357120    0.804857    0.220897    0.876448    0.130722    0.778661\n",
       "B   -1.481568    0.095787   -0.084630    0.365473   -0.738123   -2.472052\n",
       "C   -1.499992    2.080690    1.078008   -1.374547   -1.379580   -1.302779\n",
       "D    0.429845   -1.731909   -0.453735   -0.492828   -1.393377   -0.007345"
      ]
     },
     "execution_count": 16,
     "metadata": {},
     "output_type": "execute_result"
    }
   ],
   "source": [
    "df.T"
   ]
  },
  {
   "cell_type": "markdown",
   "metadata": {},
   "source": [
    "###  sorting by an axis"
   ]
  },
  {
   "cell_type": "code",
   "execution_count": 17,
   "metadata": {
    "collapsed": false
   },
   "outputs": [
    {
     "data": {
      "text/html": [
       "<div>\n",
       "<table border=\"1\" class=\"dataframe\">\n",
       "  <thead>\n",
       "    <tr style=\"text-align: right;\">\n",
       "      <th></th>\n",
       "      <th>D</th>\n",
       "      <th>C</th>\n",
       "      <th>B</th>\n",
       "      <th>A</th>\n",
       "    </tr>\n",
       "  </thead>\n",
       "  <tbody>\n",
       "    <tr>\n",
       "      <th>2016-08-26</th>\n",
       "      <td>0.429845</td>\n",
       "      <td>-1.499992</td>\n",
       "      <td>-1.481568</td>\n",
       "      <td>-0.357120</td>\n",
       "    </tr>\n",
       "    <tr>\n",
       "      <th>2016-08-27</th>\n",
       "      <td>-1.731909</td>\n",
       "      <td>2.080690</td>\n",
       "      <td>0.095787</td>\n",
       "      <td>0.804857</td>\n",
       "    </tr>\n",
       "    <tr>\n",
       "      <th>2016-08-28</th>\n",
       "      <td>-0.453735</td>\n",
       "      <td>1.078008</td>\n",
       "      <td>-0.084630</td>\n",
       "      <td>0.220897</td>\n",
       "    </tr>\n",
       "    <tr>\n",
       "      <th>2016-08-29</th>\n",
       "      <td>-0.492828</td>\n",
       "      <td>-1.374547</td>\n",
       "      <td>0.365473</td>\n",
       "      <td>0.876448</td>\n",
       "    </tr>\n",
       "    <tr>\n",
       "      <th>2016-08-30</th>\n",
       "      <td>-1.393377</td>\n",
       "      <td>-1.379580</td>\n",
       "      <td>-0.738123</td>\n",
       "      <td>0.130722</td>\n",
       "    </tr>\n",
       "    <tr>\n",
       "      <th>2016-08-31</th>\n",
       "      <td>-0.007345</td>\n",
       "      <td>-1.302779</td>\n",
       "      <td>-2.472052</td>\n",
       "      <td>0.778661</td>\n",
       "    </tr>\n",
       "  </tbody>\n",
       "</table>\n",
       "</div>"
      ],
      "text/plain": [
       "                   D         C         B         A\n",
       "2016-08-26  0.429845 -1.499992 -1.481568 -0.357120\n",
       "2016-08-27 -1.731909  2.080690  0.095787  0.804857\n",
       "2016-08-28 -0.453735  1.078008 -0.084630  0.220897\n",
       "2016-08-29 -0.492828 -1.374547  0.365473  0.876448\n",
       "2016-08-30 -1.393377 -1.379580 -0.738123  0.130722\n",
       "2016-08-31 -0.007345 -1.302779 -2.472052  0.778661"
      ]
     },
     "execution_count": 17,
     "metadata": {},
     "output_type": "execute_result"
    }
   ],
   "source": [
    "df.sort_index(axis=1, ascending = False)"
   ]
  },
  {
   "cell_type": "code",
   "execution_count": 18,
   "metadata": {
    "collapsed": false
   },
   "outputs": [
    {
     "data": {
      "text/html": [
       "<div>\n",
       "<table border=\"1\" class=\"dataframe\">\n",
       "  <thead>\n",
       "    <tr style=\"text-align: right;\">\n",
       "      <th></th>\n",
       "      <th>A</th>\n",
       "      <th>B</th>\n",
       "      <th>C</th>\n",
       "      <th>D</th>\n",
       "    </tr>\n",
       "  </thead>\n",
       "  <tbody>\n",
       "    <tr>\n",
       "      <th>2016-08-31</th>\n",
       "      <td>0.778661</td>\n",
       "      <td>-2.472052</td>\n",
       "      <td>-1.302779</td>\n",
       "      <td>-0.007345</td>\n",
       "    </tr>\n",
       "    <tr>\n",
       "      <th>2016-08-26</th>\n",
       "      <td>-0.357120</td>\n",
       "      <td>-1.481568</td>\n",
       "      <td>-1.499992</td>\n",
       "      <td>0.429845</td>\n",
       "    </tr>\n",
       "    <tr>\n",
       "      <th>2016-08-30</th>\n",
       "      <td>0.130722</td>\n",
       "      <td>-0.738123</td>\n",
       "      <td>-1.379580</td>\n",
       "      <td>-1.393377</td>\n",
       "    </tr>\n",
       "    <tr>\n",
       "      <th>2016-08-28</th>\n",
       "      <td>0.220897</td>\n",
       "      <td>-0.084630</td>\n",
       "      <td>1.078008</td>\n",
       "      <td>-0.453735</td>\n",
       "    </tr>\n",
       "    <tr>\n",
       "      <th>2016-08-27</th>\n",
       "      <td>0.804857</td>\n",
       "      <td>0.095787</td>\n",
       "      <td>2.080690</td>\n",
       "      <td>-1.731909</td>\n",
       "    </tr>\n",
       "    <tr>\n",
       "      <th>2016-08-29</th>\n",
       "      <td>0.876448</td>\n",
       "      <td>0.365473</td>\n",
       "      <td>-1.374547</td>\n",
       "      <td>-0.492828</td>\n",
       "    </tr>\n",
       "  </tbody>\n",
       "</table>\n",
       "</div>"
      ],
      "text/plain": [
       "                   A         B         C         D\n",
       "2016-08-31  0.778661 -2.472052 -1.302779 -0.007345\n",
       "2016-08-26 -0.357120 -1.481568 -1.499992  0.429845\n",
       "2016-08-30  0.130722 -0.738123 -1.379580 -1.393377\n",
       "2016-08-28  0.220897 -0.084630  1.078008 -0.453735\n",
       "2016-08-27  0.804857  0.095787  2.080690 -1.731909\n",
       "2016-08-29  0.876448  0.365473 -1.374547 -0.492828"
      ]
     },
     "execution_count": 18,
     "metadata": {},
     "output_type": "execute_result"
    }
   ],
   "source": [
    "df.sort_values(by='B')"
   ]
  },
  {
   "cell_type": "markdown",
   "metadata": {},
   "source": [
    "## Selection"
   ]
  },
  {
   "cell_type": "markdown",
   "metadata": {},
   "source": [
    "### single column을 고르는 것은 Series를 만드는 것과 같다.\n",
    "### A열을 얻어 오기 위해서 : df.A 또는  df['A']"
   ]
  },
  {
   "cell_type": "code",
   "execution_count": 22,
   "metadata": {
    "collapsed": false
   },
   "outputs": [
    {
     "data": {
      "text/plain": [
       "2016-08-26   -0.357120\n",
       "2016-08-27    0.804857\n",
       "2016-08-28    0.220897\n",
       "2016-08-29    0.876448\n",
       "2016-08-30    0.130722\n",
       "2016-08-31    0.778661\n",
       "Freq: D, Name: A, dtype: float64"
      ]
     },
     "execution_count": 22,
     "metadata": {},
     "output_type": "execute_result"
    }
   ],
   "source": [
    "df.A"
   ]
  },
  {
   "cell_type": "code",
   "execution_count": 20,
   "metadata": {
    "collapsed": false
   },
   "outputs": [
    {
     "data": {
      "text/plain": [
       "2016-08-26   -0.357120\n",
       "2016-08-27    0.804857\n",
       "2016-08-28    0.220897\n",
       "2016-08-29    0.876448\n",
       "2016-08-30    0.130722\n",
       "2016-08-31    0.778661\n",
       "Freq: D, Name: A, dtype: float64"
      ]
     },
     "execution_count": 20,
     "metadata": {},
     "output_type": "execute_result"
    }
   ],
   "source": [
    "df['A']"
   ]
  },
  {
   "cell_type": "markdown",
   "metadata": {},
   "source": [
    "### [ ]를 통해서는 Row를 얻어올 수 있다."
   ]
  },
  {
   "cell_type": "code",
   "execution_count": 21,
   "metadata": {
    "collapsed": false
   },
   "outputs": [
    {
     "data": {
      "text/html": [
       "<div>\n",
       "<table border=\"1\" class=\"dataframe\">\n",
       "  <thead>\n",
       "    <tr style=\"text-align: right;\">\n",
       "      <th></th>\n",
       "      <th>A</th>\n",
       "      <th>B</th>\n",
       "      <th>C</th>\n",
       "      <th>D</th>\n",
       "    </tr>\n",
       "  </thead>\n",
       "  <tbody>\n",
       "    <tr>\n",
       "      <th>2016-08-26</th>\n",
       "      <td>-0.357120</td>\n",
       "      <td>-1.481568</td>\n",
       "      <td>-1.499992</td>\n",
       "      <td>0.429845</td>\n",
       "    </tr>\n",
       "    <tr>\n",
       "      <th>2016-08-27</th>\n",
       "      <td>0.804857</td>\n",
       "      <td>0.095787</td>\n",
       "      <td>2.080690</td>\n",
       "      <td>-1.731909</td>\n",
       "    </tr>\n",
       "    <tr>\n",
       "      <th>2016-08-28</th>\n",
       "      <td>0.220897</td>\n",
       "      <td>-0.084630</td>\n",
       "      <td>1.078008</td>\n",
       "      <td>-0.453735</td>\n",
       "    </tr>\n",
       "  </tbody>\n",
       "</table>\n",
       "</div>"
      ],
      "text/plain": [
       "                   A         B         C         D\n",
       "2016-08-26 -0.357120 -1.481568 -1.499992  0.429845\n",
       "2016-08-27  0.804857  0.095787  2.080690 -1.731909\n",
       "2016-08-28  0.220897 -0.084630  1.078008 -0.453735"
      ]
     },
     "execution_count": 21,
     "metadata": {},
     "output_type": "execute_result"
    }
   ],
   "source": [
    "df[0:3]"
   ]
  },
  {
   "cell_type": "markdown",
   "metadata": {},
   "source": [
    "###  Selection by Label\n",
    "#### loc[ rowStart : rowEnd , list of Label]"
   ]
  },
  {
   "cell_type": "code",
   "execution_count": 25,
   "metadata": {
    "collapsed": false
   },
   "outputs": [
    {
     "data": {
      "text/plain": [
       "A   -0.357120\n",
       "B   -1.481568\n",
       "C   -1.499992\n",
       "D    0.429845\n",
       "Name: 2016-08-26 00:00:00, dtype: float64"
      ]
     },
     "execution_count": 25,
     "metadata": {},
     "output_type": "execute_result"
    }
   ],
   "source": [
    "df.loc[dates[0]]"
   ]
  },
  {
   "cell_type": "code",
   "execution_count": 27,
   "metadata": {
    "collapsed": false
   },
   "outputs": [
    {
     "data": {
      "text/html": [
       "<div>\n",
       "<table border=\"1\" class=\"dataframe\">\n",
       "  <thead>\n",
       "    <tr style=\"text-align: right;\">\n",
       "      <th></th>\n",
       "      <th>A</th>\n",
       "      <th>B</th>\n",
       "    </tr>\n",
       "  </thead>\n",
       "  <tbody>\n",
       "    <tr>\n",
       "      <th>2016-08-26</th>\n",
       "      <td>-0.357120</td>\n",
       "      <td>-1.481568</td>\n",
       "    </tr>\n",
       "    <tr>\n",
       "      <th>2016-08-27</th>\n",
       "      <td>0.804857</td>\n",
       "      <td>0.095787</td>\n",
       "    </tr>\n",
       "    <tr>\n",
       "      <th>2016-08-28</th>\n",
       "      <td>0.220897</td>\n",
       "      <td>-0.084630</td>\n",
       "    </tr>\n",
       "    <tr>\n",
       "      <th>2016-08-29</th>\n",
       "      <td>0.876448</td>\n",
       "      <td>0.365473</td>\n",
       "    </tr>\n",
       "    <tr>\n",
       "      <th>2016-08-30</th>\n",
       "      <td>0.130722</td>\n",
       "      <td>-0.738123</td>\n",
       "    </tr>\n",
       "    <tr>\n",
       "      <th>2016-08-31</th>\n",
       "      <td>0.778661</td>\n",
       "      <td>-2.472052</td>\n",
       "    </tr>\n",
       "  </tbody>\n",
       "</table>\n",
       "</div>"
      ],
      "text/plain": [
       "                   A         B\n",
       "2016-08-26 -0.357120 -1.481568\n",
       "2016-08-27  0.804857  0.095787\n",
       "2016-08-28  0.220897 -0.084630\n",
       "2016-08-29  0.876448  0.365473\n",
       "2016-08-30  0.130722 -0.738123\n",
       "2016-08-31  0.778661 -2.472052"
      ]
     },
     "execution_count": 27,
     "metadata": {},
     "output_type": "execute_result"
    }
   ],
   "source": [
    "df.loc[:,['A','B']]"
   ]
  },
  {
   "cell_type": "code",
   "execution_count": 28,
   "metadata": {
    "collapsed": false
   },
   "outputs": [
    {
     "data": {
      "text/html": [
       "<div>\n",
       "<table border=\"1\" class=\"dataframe\">\n",
       "  <thead>\n",
       "    <tr style=\"text-align: right;\">\n",
       "      <th></th>\n",
       "      <th>A</th>\n",
       "      <th>B</th>\n",
       "    </tr>\n",
       "  </thead>\n",
       "  <tbody>\n",
       "    <tr>\n",
       "      <th>2016-08-26</th>\n",
       "      <td>-0.357120</td>\n",
       "      <td>-1.481568</td>\n",
       "    </tr>\n",
       "    <tr>\n",
       "      <th>2016-08-27</th>\n",
       "      <td>0.804857</td>\n",
       "      <td>0.095787</td>\n",
       "    </tr>\n",
       "    <tr>\n",
       "      <th>2016-08-28</th>\n",
       "      <td>0.220897</td>\n",
       "      <td>-0.084630</td>\n",
       "    </tr>\n",
       "    <tr>\n",
       "      <th>2016-08-29</th>\n",
       "      <td>0.876448</td>\n",
       "      <td>0.365473</td>\n",
       "    </tr>\n",
       "  </tbody>\n",
       "</table>\n",
       "</div>"
      ],
      "text/plain": [
       "                   A         B\n",
       "2016-08-26 -0.357120 -1.481568\n",
       "2016-08-27  0.804857  0.095787\n",
       "2016-08-28  0.220897 -0.084630\n",
       "2016-08-29  0.876448  0.365473"
      ]
     },
     "execution_count": 28,
     "metadata": {},
     "output_type": "execute_result"
    }
   ],
   "source": [
    "df.loc['20160826':'20160829',['A','B']]"
   ]
  },
  {
   "cell_type": "code",
   "execution_count": 29,
   "metadata": {
    "collapsed": false
   },
   "outputs": [
    {
     "data": {
      "text/plain": [
       "A   -0.35712\n",
       "Name: 2016-08-26 00:00:00, dtype: float64"
      ]
     },
     "execution_count": 29,
     "metadata": {},
     "output_type": "execute_result"
    }
   ],
   "source": [
    "df.loc['20160826',['A']]"
   ]
  },
  {
   "cell_type": "markdown",
   "metadata": {},
   "source": [
    "### Selection by Position\n",
    "#### iloc[ rowStart : rowEnd, colStart : colEnd]"
   ]
  },
  {
   "cell_type": "code",
   "execution_count": 30,
   "metadata": {
    "collapsed": false
   },
   "outputs": [
    {
     "data": {
      "text/plain": [
       "A    0.876448\n",
       "B    0.365473\n",
       "C   -1.374547\n",
       "D   -0.492828\n",
       "Name: 2016-08-29 00:00:00, dtype: float64"
      ]
     },
     "execution_count": 30,
     "metadata": {},
     "output_type": "execute_result"
    }
   ],
   "source": [
    "df.iloc[3]"
   ]
  },
  {
   "cell_type": "code",
   "execution_count": 31,
   "metadata": {
    "collapsed": false
   },
   "outputs": [
    {
     "data": {
      "text/html": [
       "<div>\n",
       "<table border=\"1\" class=\"dataframe\">\n",
       "  <thead>\n",
       "    <tr style=\"text-align: right;\">\n",
       "      <th></th>\n",
       "      <th>A</th>\n",
       "      <th>B</th>\n",
       "    </tr>\n",
       "  </thead>\n",
       "  <tbody>\n",
       "    <tr>\n",
       "      <th>2016-08-29</th>\n",
       "      <td>0.876448</td>\n",
       "      <td>0.365473</td>\n",
       "    </tr>\n",
       "    <tr>\n",
       "      <th>2016-08-30</th>\n",
       "      <td>0.130722</td>\n",
       "      <td>-0.738123</td>\n",
       "    </tr>\n",
       "  </tbody>\n",
       "</table>\n",
       "</div>"
      ],
      "text/plain": [
       "                   A         B\n",
       "2016-08-29  0.876448  0.365473\n",
       "2016-08-30  0.130722 -0.738123"
      ]
     },
     "execution_count": 31,
     "metadata": {},
     "output_type": "execute_result"
    }
   ],
   "source": [
    "df.iloc[3:5,0:2]"
   ]
  },
  {
   "cell_type": "markdown",
   "metadata": {},
   "source": [
    "#### fast access to a scalar"
   ]
  },
  {
   "cell_type": "code",
   "execution_count": 32,
   "metadata": {
    "collapsed": false
   },
   "outputs": [
    {
     "data": {
      "text/plain": [
       "0.095786886410201555"
      ]
     },
     "execution_count": 32,
     "metadata": {},
     "output_type": "execute_result"
    }
   ],
   "source": [
    "df.iat[1,1]"
   ]
  },
  {
   "cell_type": "markdown",
   "metadata": {},
   "source": [
    "### Boolean Indexing"
   ]
  },
  {
   "cell_type": "code",
   "execution_count": 37,
   "metadata": {
    "collapsed": false
   },
   "outputs": [
    {
     "data": {
      "text/html": [
       "<div>\n",
       "<table border=\"1\" class=\"dataframe\">\n",
       "  <thead>\n",
       "    <tr style=\"text-align: right;\">\n",
       "      <th></th>\n",
       "      <th>A</th>\n",
       "      <th>B</th>\n",
       "      <th>C</th>\n",
       "      <th>D</th>\n",
       "    </tr>\n",
       "  </thead>\n",
       "  <tbody>\n",
       "    <tr>\n",
       "      <th>2016-08-27</th>\n",
       "      <td>0.804857</td>\n",
       "      <td>0.095787</td>\n",
       "      <td>2.080690</td>\n",
       "      <td>-1.731909</td>\n",
       "    </tr>\n",
       "    <tr>\n",
       "      <th>2016-08-28</th>\n",
       "      <td>0.220897</td>\n",
       "      <td>-0.084630</td>\n",
       "      <td>1.078008</td>\n",
       "      <td>-0.453735</td>\n",
       "    </tr>\n",
       "    <tr>\n",
       "      <th>2016-08-29</th>\n",
       "      <td>0.876448</td>\n",
       "      <td>0.365473</td>\n",
       "      <td>-1.374547</td>\n",
       "      <td>-0.492828</td>\n",
       "    </tr>\n",
       "    <tr>\n",
       "      <th>2016-08-30</th>\n",
       "      <td>0.130722</td>\n",
       "      <td>-0.738123</td>\n",
       "      <td>-1.379580</td>\n",
       "      <td>-1.393377</td>\n",
       "    </tr>\n",
       "    <tr>\n",
       "      <th>2016-08-31</th>\n",
       "      <td>0.778661</td>\n",
       "      <td>-2.472052</td>\n",
       "      <td>-1.302779</td>\n",
       "      <td>-0.007345</td>\n",
       "    </tr>\n",
       "  </tbody>\n",
       "</table>\n",
       "</div>"
      ],
      "text/plain": [
       "                   A         B         C         D\n",
       "2016-08-27  0.804857  0.095787  2.080690 -1.731909\n",
       "2016-08-28  0.220897 -0.084630  1.078008 -0.453735\n",
       "2016-08-29  0.876448  0.365473 -1.374547 -0.492828\n",
       "2016-08-30  0.130722 -0.738123 -1.379580 -1.393377\n",
       "2016-08-31  0.778661 -2.472052 -1.302779 -0.007345"
      ]
     },
     "execution_count": 37,
     "metadata": {},
     "output_type": "execute_result"
    }
   ],
   "source": [
    "df[df.A> 0] # A열이 0보다 큰 값들."
   ]
  },
  {
   "cell_type": "code",
   "execution_count": 39,
   "metadata": {
    "collapsed": false
   },
   "outputs": [
    {
     "data": {
      "text/html": [
       "<div>\n",
       "<table border=\"1\" class=\"dataframe\">\n",
       "  <thead>\n",
       "    <tr style=\"text-align: right;\">\n",
       "      <th></th>\n",
       "      <th>A</th>\n",
       "      <th>B</th>\n",
       "      <th>C</th>\n",
       "      <th>D</th>\n",
       "    </tr>\n",
       "  </thead>\n",
       "  <tbody>\n",
       "    <tr>\n",
       "      <th>2016-08-26</th>\n",
       "      <td>NaN</td>\n",
       "      <td>NaN</td>\n",
       "      <td>NaN</td>\n",
       "      <td>0.429845</td>\n",
       "    </tr>\n",
       "    <tr>\n",
       "      <th>2016-08-27</th>\n",
       "      <td>0.804857</td>\n",
       "      <td>0.095787</td>\n",
       "      <td>2.080690</td>\n",
       "      <td>NaN</td>\n",
       "    </tr>\n",
       "    <tr>\n",
       "      <th>2016-08-28</th>\n",
       "      <td>0.220897</td>\n",
       "      <td>NaN</td>\n",
       "      <td>1.078008</td>\n",
       "      <td>NaN</td>\n",
       "    </tr>\n",
       "    <tr>\n",
       "      <th>2016-08-29</th>\n",
       "      <td>0.876448</td>\n",
       "      <td>0.365473</td>\n",
       "      <td>NaN</td>\n",
       "      <td>NaN</td>\n",
       "    </tr>\n",
       "    <tr>\n",
       "      <th>2016-08-30</th>\n",
       "      <td>0.130722</td>\n",
       "      <td>NaN</td>\n",
       "      <td>NaN</td>\n",
       "      <td>NaN</td>\n",
       "    </tr>\n",
       "    <tr>\n",
       "      <th>2016-08-31</th>\n",
       "      <td>0.778661</td>\n",
       "      <td>NaN</td>\n",
       "      <td>NaN</td>\n",
       "      <td>NaN</td>\n",
       "    </tr>\n",
       "  </tbody>\n",
       "</table>\n",
       "</div>"
      ],
      "text/plain": [
       "                   A         B         C         D\n",
       "2016-08-26       NaN       NaN       NaN  0.429845\n",
       "2016-08-27  0.804857  0.095787  2.080690       NaN\n",
       "2016-08-28  0.220897       NaN  1.078008       NaN\n",
       "2016-08-29  0.876448  0.365473       NaN       NaN\n",
       "2016-08-30  0.130722       NaN       NaN       NaN\n",
       "2016-08-31  0.778661       NaN       NaN       NaN"
      ]
     },
     "execution_count": 39,
     "metadata": {},
     "output_type": "execute_result"
    }
   ],
   "source": [
    "df[df>0] #값들 중 0보다 큰값만."
   ]
  },
  {
   "cell_type": "markdown",
   "metadata": {},
   "source": [
    "#### isin( [ list of Value ] )를  통해 특정 값이 있는 Row 검색하기."
   ]
  },
  {
   "cell_type": "code",
   "execution_count": 41,
   "metadata": {
    "collapsed": false
   },
   "outputs": [
    {
     "data": {
      "text/html": [
       "<div>\n",
       "<table border=\"1\" class=\"dataframe\">\n",
       "  <thead>\n",
       "    <tr style=\"text-align: right;\">\n",
       "      <th></th>\n",
       "      <th>A</th>\n",
       "      <th>B</th>\n",
       "      <th>C</th>\n",
       "      <th>D</th>\n",
       "      <th>E</th>\n",
       "    </tr>\n",
       "  </thead>\n",
       "  <tbody>\n",
       "    <tr>\n",
       "      <th>2016-08-28</th>\n",
       "      <td>0.220897</td>\n",
       "      <td>-0.084630</td>\n",
       "      <td>1.078008</td>\n",
       "      <td>-0.453735</td>\n",
       "      <td>two</td>\n",
       "    </tr>\n",
       "    <tr>\n",
       "      <th>2016-08-30</th>\n",
       "      <td>0.130722</td>\n",
       "      <td>-0.738123</td>\n",
       "      <td>-1.379580</td>\n",
       "      <td>-1.393377</td>\n",
       "      <td>four</td>\n",
       "    </tr>\n",
       "  </tbody>\n",
       "</table>\n",
       "</div>"
      ],
      "text/plain": [
       "                   A         B         C         D     E\n",
       "2016-08-28  0.220897 -0.084630  1.078008 -0.453735   two\n",
       "2016-08-30  0.130722 -0.738123 -1.379580 -1.393377  four"
      ]
     },
     "execution_count": 41,
     "metadata": {},
     "output_type": "execute_result"
    }
   ],
   "source": [
    "df2 = df.copy()\n",
    "df2['E'] = ['one','one','two','three','four','three']\n",
    "\n",
    "# E열에 two와 four의 값을 가지는 Row만 검색\n",
    "df2[df2['E'].isin(['two','four'])]"
   ]
  },
  {
   "cell_type": "markdown",
   "metadata": {},
   "source": [
    "## Setting"
   ]
  },
  {
   "cell_type": "code",
   "execution_count": 53,
   "metadata": {
    "collapsed": false
   },
   "outputs": [
    {
     "data": {
      "text/html": [
       "<div>\n",
       "<table border=\"1\" class=\"dataframe\">\n",
       "  <thead>\n",
       "    <tr style=\"text-align: right;\">\n",
       "      <th></th>\n",
       "      <th>A</th>\n",
       "      <th>B</th>\n",
       "      <th>C</th>\n",
       "      <th>D</th>\n",
       "      <th>F</th>\n",
       "    </tr>\n",
       "  </thead>\n",
       "  <tbody>\n",
       "    <tr>\n",
       "      <th>2016-08-26</th>\n",
       "      <td>NaN</td>\n",
       "      <td>NaN</td>\n",
       "      <td>NaN</td>\n",
       "      <td>0.429845</td>\n",
       "      <td>NaN</td>\n",
       "    </tr>\n",
       "    <tr>\n",
       "      <th>2016-08-27</th>\n",
       "      <td>0.804857</td>\n",
       "      <td>0.095787</td>\n",
       "      <td>2.080690</td>\n",
       "      <td>NaN</td>\n",
       "      <td>1.0</td>\n",
       "    </tr>\n",
       "    <tr>\n",
       "      <th>2016-08-28</th>\n",
       "      <td>0.220897</td>\n",
       "      <td>NaN</td>\n",
       "      <td>1.078008</td>\n",
       "      <td>NaN</td>\n",
       "      <td>2.0</td>\n",
       "    </tr>\n",
       "    <tr>\n",
       "      <th>2016-08-29</th>\n",
       "      <td>0.876448</td>\n",
       "      <td>0.365473</td>\n",
       "      <td>NaN</td>\n",
       "      <td>NaN</td>\n",
       "      <td>3.0</td>\n",
       "    </tr>\n",
       "    <tr>\n",
       "      <th>2016-08-30</th>\n",
       "      <td>0.130722</td>\n",
       "      <td>NaN</td>\n",
       "      <td>NaN</td>\n",
       "      <td>NaN</td>\n",
       "      <td>4.0</td>\n",
       "    </tr>\n",
       "    <tr>\n",
       "      <th>2016-08-31</th>\n",
       "      <td>0.778661</td>\n",
       "      <td>NaN</td>\n",
       "      <td>NaN</td>\n",
       "      <td>NaN</td>\n",
       "      <td>5.0</td>\n",
       "    </tr>\n",
       "  </tbody>\n",
       "</table>\n",
       "</div>"
      ],
      "text/plain": [
       "                   A         B         C         D    F\n",
       "2016-08-26       NaN       NaN       NaN  0.429845  NaN\n",
       "2016-08-27  0.804857  0.095787  2.080690       NaN  1.0\n",
       "2016-08-28  0.220897       NaN  1.078008       NaN  2.0\n",
       "2016-08-29  0.876448  0.365473       NaN       NaN  3.0\n",
       "2016-08-30  0.130722       NaN       NaN       NaN  4.0\n",
       "2016-08-31  0.778661       NaN       NaN       NaN  5.0"
      ]
     },
     "execution_count": 53,
     "metadata": {},
     "output_type": "execute_result"
    }
   ],
   "source": [
    "s1 = pd.Series([1,2,3,4,5,6], index = pd.date_range('20160827',periods=6))\n",
    "df['F'] = s1\n",
    "df[df>0]"
   ]
  },
  {
   "cell_type": "markdown",
   "metadata": {},
   "source": [
    "## Missing Data\n",
    "### pandas는 np.nan을 이용해 missing Data를 보여준다."
   ]
  },
  {
   "cell_type": "code",
   "execution_count": 55,
   "metadata": {
    "collapsed": false
   },
   "outputs": [
    {
     "data": {
      "text/html": [
       "<div>\n",
       "<table border=\"1\" class=\"dataframe\">\n",
       "  <thead>\n",
       "    <tr style=\"text-align: right;\">\n",
       "      <th></th>\n",
       "      <th>A</th>\n",
       "      <th>B</th>\n",
       "      <th>C</th>\n",
       "      <th>D</th>\n",
       "      <th>F</th>\n",
       "      <th>E</th>\n",
       "    </tr>\n",
       "  </thead>\n",
       "  <tbody>\n",
       "    <tr>\n",
       "      <th>2016-08-26</th>\n",
       "      <td>-0.357120</td>\n",
       "      <td>-1.481568</td>\n",
       "      <td>-1.499992</td>\n",
       "      <td>0.429845</td>\n",
       "      <td>NaN</td>\n",
       "      <td>1.0</td>\n",
       "    </tr>\n",
       "    <tr>\n",
       "      <th>2016-08-27</th>\n",
       "      <td>0.804857</td>\n",
       "      <td>0.095787</td>\n",
       "      <td>2.080690</td>\n",
       "      <td>-1.731909</td>\n",
       "      <td>1.0</td>\n",
       "      <td>1.0</td>\n",
       "    </tr>\n",
       "    <tr>\n",
       "      <th>2016-08-28</th>\n",
       "      <td>0.220897</td>\n",
       "      <td>-0.084630</td>\n",
       "      <td>1.078008</td>\n",
       "      <td>-0.453735</td>\n",
       "      <td>2.0</td>\n",
       "      <td>NaN</td>\n",
       "    </tr>\n",
       "    <tr>\n",
       "      <th>2016-08-29</th>\n",
       "      <td>0.876448</td>\n",
       "      <td>0.365473</td>\n",
       "      <td>-1.374547</td>\n",
       "      <td>-0.492828</td>\n",
       "      <td>3.0</td>\n",
       "      <td>NaN</td>\n",
       "    </tr>\n",
       "  </tbody>\n",
       "</table>\n",
       "</div>"
      ],
      "text/plain": [
       "                   A         B         C         D    F    E\n",
       "2016-08-26 -0.357120 -1.481568 -1.499992  0.429845  NaN  1.0\n",
       "2016-08-27  0.804857  0.095787  2.080690 -1.731909  1.0  1.0\n",
       "2016-08-28  0.220897 -0.084630  1.078008 -0.453735  2.0  NaN\n",
       "2016-08-29  0.876448  0.365473 -1.374547 -0.492828  3.0  NaN"
      ]
     },
     "execution_count": 55,
     "metadata": {},
     "output_type": "execute_result"
    }
   ],
   "source": [
    "df1 = df.reindex(index=dates[0:4], columns=list(df.columns)+['E'])\n",
    "df1.loc[dates[0]:dates[1],'E']=1  #0, 1열 의 값 = 1\n",
    "df1"
   ]
  },
  {
   "cell_type": "markdown",
   "metadata": {},
   "source": [
    "#### dropna( ) 을 이용해 Missing Data 를 가진 Row 를 버릴 수 있다."
   ]
  },
  {
   "cell_type": "code",
   "execution_count": 57,
   "metadata": {
    "collapsed": false
   },
   "outputs": [
    {
     "data": {
      "text/html": [
       "<div>\n",
       "<table border=\"1\" class=\"dataframe\">\n",
       "  <thead>\n",
       "    <tr style=\"text-align: right;\">\n",
       "      <th></th>\n",
       "      <th>A</th>\n",
       "      <th>B</th>\n",
       "      <th>C</th>\n",
       "      <th>D</th>\n",
       "      <th>F</th>\n",
       "      <th>E</th>\n",
       "    </tr>\n",
       "  </thead>\n",
       "  <tbody>\n",
       "    <tr>\n",
       "      <th>2016-08-27</th>\n",
       "      <td>0.804857</td>\n",
       "      <td>0.095787</td>\n",
       "      <td>2.08069</td>\n",
       "      <td>-1.731909</td>\n",
       "      <td>1.0</td>\n",
       "      <td>1.0</td>\n",
       "    </tr>\n",
       "  </tbody>\n",
       "</table>\n",
       "</div>"
      ],
      "text/plain": [
       "                   A         B        C         D    F    E\n",
       "2016-08-27  0.804857  0.095787  2.08069 -1.731909  1.0  1.0"
      ]
     },
     "execution_count": 57,
     "metadata": {},
     "output_type": "execute_result"
    }
   ],
   "source": [
    "df1.dropna(how='any')"
   ]
  },
  {
   "cell_type": "markdown",
   "metadata": {},
   "source": [
    "#### fillna( ) 를 통해 Missing Data를 채울 수 있다."
   ]
  },
  {
   "cell_type": "code",
   "execution_count": 59,
   "metadata": {
    "collapsed": false
   },
   "outputs": [
    {
     "data": {
      "text/html": [
       "<div>\n",
       "<table border=\"1\" class=\"dataframe\">\n",
       "  <thead>\n",
       "    <tr style=\"text-align: right;\">\n",
       "      <th></th>\n",
       "      <th>A</th>\n",
       "      <th>B</th>\n",
       "      <th>C</th>\n",
       "      <th>D</th>\n",
       "      <th>F</th>\n",
       "      <th>E</th>\n",
       "    </tr>\n",
       "  </thead>\n",
       "  <tbody>\n",
       "    <tr>\n",
       "      <th>2016-08-26</th>\n",
       "      <td>-0.357120</td>\n",
       "      <td>-1.481568</td>\n",
       "      <td>-1.499992</td>\n",
       "      <td>0.429845</td>\n",
       "      <td>5.0</td>\n",
       "      <td>1.0</td>\n",
       "    </tr>\n",
       "    <tr>\n",
       "      <th>2016-08-27</th>\n",
       "      <td>0.804857</td>\n",
       "      <td>0.095787</td>\n",
       "      <td>2.080690</td>\n",
       "      <td>-1.731909</td>\n",
       "      <td>1.0</td>\n",
       "      <td>1.0</td>\n",
       "    </tr>\n",
       "    <tr>\n",
       "      <th>2016-08-28</th>\n",
       "      <td>0.220897</td>\n",
       "      <td>-0.084630</td>\n",
       "      <td>1.078008</td>\n",
       "      <td>-0.453735</td>\n",
       "      <td>2.0</td>\n",
       "      <td>5.0</td>\n",
       "    </tr>\n",
       "    <tr>\n",
       "      <th>2016-08-29</th>\n",
       "      <td>0.876448</td>\n",
       "      <td>0.365473</td>\n",
       "      <td>-1.374547</td>\n",
       "      <td>-0.492828</td>\n",
       "      <td>3.0</td>\n",
       "      <td>5.0</td>\n",
       "    </tr>\n",
       "  </tbody>\n",
       "</table>\n",
       "</div>"
      ],
      "text/plain": [
       "                   A         B         C         D    F    E\n",
       "2016-08-26 -0.357120 -1.481568 -1.499992  0.429845  5.0  1.0\n",
       "2016-08-27  0.804857  0.095787  2.080690 -1.731909  1.0  1.0\n",
       "2016-08-28  0.220897 -0.084630  1.078008 -0.453735  2.0  5.0\n",
       "2016-08-29  0.876448  0.365473 -1.374547 -0.492828  3.0  5.0"
      ]
     },
     "execution_count": 59,
     "metadata": {},
     "output_type": "execute_result"
    }
   ],
   "source": [
    "df1.fillna(value=5)"
   ]
  },
  {
   "cell_type": "markdown",
   "metadata": {},
   "source": [
    "## Operations\n",
    "#### 연산은 기본적으로 Missing Data(Nan)을 제외하고 작동한다."
   ]
  },
  {
   "cell_type": "markdown",
   "metadata": {},
   "source": [
    "### Stats"
   ]
  },
  {
   "cell_type": "code",
   "execution_count": 60,
   "metadata": {
    "collapsed": false
   },
   "outputs": [
    {
     "data": {
      "text/plain": [
       "A    0.409077\n",
       "B   -0.719185\n",
       "C   -0.399700\n",
       "D   -0.608225\n",
       "F    3.000000\n",
       "dtype: float64"
      ]
     },
     "execution_count": 60,
     "metadata": {},
     "output_type": "execute_result"
    }
   ],
   "source": [
    "df.mean() #Column 기준 평균"
   ]
  },
  {
   "cell_type": "code",
   "execution_count": 63,
   "metadata": {
    "collapsed": false
   },
   "outputs": [
    {
     "data": {
      "text/plain": [
       "2016-08-26   -0.727209\n",
       "2016-08-27    0.449885\n",
       "2016-08-28    0.552108\n",
       "2016-08-29    0.474909\n",
       "2016-08-30    0.123928\n",
       "2016-08-31    0.399297\n",
       "Freq: D, dtype: float64"
      ]
     },
     "execution_count": 63,
     "metadata": {},
     "output_type": "execute_result"
    }
   ],
   "source": [
    "df.mean(1) #Row 기준 평균"
   ]
  },
  {
   "cell_type": "markdown",
   "metadata": {},
   "source": [
    "### Apply\n",
    "#### apply(function) 함수를 통해서 원하는 연산을 적용시킬 수 있다."
   ]
  },
  {
   "cell_type": "code",
   "execution_count": 64,
   "metadata": {
    "collapsed": false
   },
   "outputs": [
    {
     "data": {
      "text/html": [
       "<div>\n",
       "<table border=\"1\" class=\"dataframe\">\n",
       "  <thead>\n",
       "    <tr style=\"text-align: right;\">\n",
       "      <th></th>\n",
       "      <th>A</th>\n",
       "      <th>B</th>\n",
       "      <th>C</th>\n",
       "      <th>D</th>\n",
       "      <th>F</th>\n",
       "    </tr>\n",
       "  </thead>\n",
       "  <tbody>\n",
       "    <tr>\n",
       "      <th>2016-08-26</th>\n",
       "      <td>-0.357120</td>\n",
       "      <td>-1.481568</td>\n",
       "      <td>-1.499992</td>\n",
       "      <td>0.429845</td>\n",
       "      <td>NaN</td>\n",
       "    </tr>\n",
       "    <tr>\n",
       "      <th>2016-08-27</th>\n",
       "      <td>0.447737</td>\n",
       "      <td>-1.385781</td>\n",
       "      <td>0.580697</td>\n",
       "      <td>-1.302064</td>\n",
       "      <td>1.0</td>\n",
       "    </tr>\n",
       "    <tr>\n",
       "      <th>2016-08-28</th>\n",
       "      <td>0.668634</td>\n",
       "      <td>-1.470411</td>\n",
       "      <td>1.658705</td>\n",
       "      <td>-1.755799</td>\n",
       "      <td>3.0</td>\n",
       "    </tr>\n",
       "    <tr>\n",
       "      <th>2016-08-29</th>\n",
       "      <td>1.545082</td>\n",
       "      <td>-1.104938</td>\n",
       "      <td>0.284159</td>\n",
       "      <td>-2.248628</td>\n",
       "      <td>6.0</td>\n",
       "    </tr>\n",
       "    <tr>\n",
       "      <th>2016-08-30</th>\n",
       "      <td>1.675804</td>\n",
       "      <td>-1.843061</td>\n",
       "      <td>-1.095421</td>\n",
       "      <td>-3.642005</td>\n",
       "      <td>10.0</td>\n",
       "    </tr>\n",
       "    <tr>\n",
       "      <th>2016-08-31</th>\n",
       "      <td>2.454465</td>\n",
       "      <td>-4.315113</td>\n",
       "      <td>-2.398200</td>\n",
       "      <td>-3.649350</td>\n",
       "      <td>15.0</td>\n",
       "    </tr>\n",
       "  </tbody>\n",
       "</table>\n",
       "</div>"
      ],
      "text/plain": [
       "                   A         B         C         D     F\n",
       "2016-08-26 -0.357120 -1.481568 -1.499992  0.429845   NaN\n",
       "2016-08-27  0.447737 -1.385781  0.580697 -1.302064   1.0\n",
       "2016-08-28  0.668634 -1.470411  1.658705 -1.755799   3.0\n",
       "2016-08-29  1.545082 -1.104938  0.284159 -2.248628   6.0\n",
       "2016-08-30  1.675804 -1.843061 -1.095421 -3.642005  10.0\n",
       "2016-08-31  2.454465 -4.315113 -2.398200 -3.649350  15.0"
      ]
     },
     "execution_count": 64,
     "metadata": {},
     "output_type": "execute_result"
    }
   ],
   "source": [
    "df.apply(np.cumsum)"
   ]
  },
  {
   "cell_type": "code",
   "execution_count": 66,
   "metadata": {
    "collapsed": false
   },
   "outputs": [
    {
     "data": {
      "text/plain": [
       "A    1.233568\n",
       "B    2.837525\n",
       "C    3.580682\n",
       "D    2.161753\n",
       "F    4.000000\n",
       "dtype: float64"
      ]
     },
     "execution_count": 66,
     "metadata": {},
     "output_type": "execute_result"
    }
   ],
   "source": [
    "# lambda를 통해 최대값 - 최소값 찾기\n",
    "df.apply(lambda x : x.max()-x.min())"
   ]
  },
  {
   "cell_type": "markdown",
   "metadata": {},
   "source": [
    "### Histogramming"
   ]
  },
  {
   "cell_type": "code",
   "execution_count": 75,
   "metadata": {
    "collapsed": false
   },
   "outputs": [
    {
     "data": {
      "text/plain": [
       "<matplotlib.axes._subplots.AxesSubplot at 0x118a09518>"
      ]
     },
     "execution_count": 75,
     "metadata": {},
     "output_type": "execute_result"
    },
    {
     "data": {
      "image/png": "[encoded data removed]",
      "text/plain": [
       "<matplotlib.figure.Figure at 0x118a17198>"
      ]
     },
     "metadata": {},
     "output_type": "display_data"
    }
   ],
   "source": [
    "s= pd.Series(np.random.randint(0,7,size=10))\n",
    "# value_counts()로 각 값들의 갯수를 파악 할 수 있다.\n",
    "s.value_counts().plot.bar()"
   ]
  },
  {
   "cell_type": "markdown",
   "metadata": {},
   "source": [
    "## Merge\n",
    "### Concat"
   ]
  },
  {
   "cell_type": "code",
   "execution_count": 79,
   "metadata": {
    "collapsed": false
   },
   "outputs": [
    {
     "name": "stdout",
     "output_type": "stream",
     "text": [
      "          0         1         2         3\n",
      "0 -0.491697 -1.078699 -0.531029  1.032028\n",
      "1 -0.058173  0.817637  1.060682  0.039357\n",
      "2  0.417762 -0.172691 -0.974082 -0.538691\n",
      "3  2.016884 -0.484349 -0.215327 -0.331788\n",
      "4  0.117747 -2.010379  0.658180 -0.800675\n",
      "5  0.804995  1.453635 -1.175123  0.445028\n",
      "6 -0.749825  1.057247  0.377884 -0.368556\n",
      "7  0.436049 -0.171464  1.738412 -0.406810\n",
      "8 -0.165752  0.144486  1.949172 -0.072775\n",
      "9  1.426334 -0.271524  0.369786  0.466841\n"
     ]
    },
    {
     "data": {
      "text/html": [
       "<div>\n",
       "<table border=\"1\" class=\"dataframe\">\n",
       "  <thead>\n",
       "    <tr style=\"text-align: right;\">\n",
       "      <th></th>\n",
       "      <th>0</th>\n",
       "      <th>1</th>\n",
       "      <th>2</th>\n",
       "      <th>3</th>\n",
       "    </tr>\n",
       "  </thead>\n",
       "  <tbody>\n",
       "    <tr>\n",
       "      <th>0</th>\n",
       "      <td>-0.491697</td>\n",
       "      <td>-1.078699</td>\n",
       "      <td>-0.531029</td>\n",
       "      <td>1.032028</td>\n",
       "    </tr>\n",
       "    <tr>\n",
       "      <th>1</th>\n",
       "      <td>-0.058173</td>\n",
       "      <td>0.817637</td>\n",
       "      <td>1.060682</td>\n",
       "      <td>0.039357</td>\n",
       "    </tr>\n",
       "    <tr>\n",
       "      <th>2</th>\n",
       "      <td>0.417762</td>\n",
       "      <td>-0.172691</td>\n",
       "      <td>-0.974082</td>\n",
       "      <td>-0.538691</td>\n",
       "    </tr>\n",
       "    <tr>\n",
       "      <th>3</th>\n",
       "      <td>2.016884</td>\n",
       "      <td>-0.484349</td>\n",
       "      <td>-0.215327</td>\n",
       "      <td>-0.331788</td>\n",
       "    </tr>\n",
       "    <tr>\n",
       "      <th>4</th>\n",
       "      <td>0.117747</td>\n",
       "      <td>-2.010379</td>\n",
       "      <td>0.658180</td>\n",
       "      <td>-0.800675</td>\n",
       "    </tr>\n",
       "    <tr>\n",
       "      <th>5</th>\n",
       "      <td>0.804995</td>\n",
       "      <td>1.453635</td>\n",
       "      <td>-1.175123</td>\n",
       "      <td>0.445028</td>\n",
       "    </tr>\n",
       "    <tr>\n",
       "      <th>6</th>\n",
       "      <td>-0.749825</td>\n",
       "      <td>1.057247</td>\n",
       "      <td>0.377884</td>\n",
       "      <td>-0.368556</td>\n",
       "    </tr>\n",
       "    <tr>\n",
       "      <th>7</th>\n",
       "      <td>0.436049</td>\n",
       "      <td>-0.171464</td>\n",
       "      <td>1.738412</td>\n",
       "      <td>-0.406810</td>\n",
       "    </tr>\n",
       "    <tr>\n",
       "      <th>8</th>\n",
       "      <td>-0.165752</td>\n",
       "      <td>0.144486</td>\n",
       "      <td>1.949172</td>\n",
       "      <td>-0.072775</td>\n",
       "    </tr>\n",
       "    <tr>\n",
       "      <th>9</th>\n",
       "      <td>1.426334</td>\n",
       "      <td>-0.271524</td>\n",
       "      <td>0.369786</td>\n",
       "      <td>0.466841</td>\n",
       "    </tr>\n",
       "  </tbody>\n",
       "</table>\n",
       "</div>"
      ],
      "text/plain": [
       "          0         1         2         3\n",
       "0 -0.491697 -1.078699 -0.531029  1.032028\n",
       "1 -0.058173  0.817637  1.060682  0.039357\n",
       "2  0.417762 -0.172691 -0.974082 -0.538691\n",
       "3  2.016884 -0.484349 -0.215327 -0.331788\n",
       "4  0.117747 -2.010379  0.658180 -0.800675\n",
       "5  0.804995  1.453635 -1.175123  0.445028\n",
       "6 -0.749825  1.057247  0.377884 -0.368556\n",
       "7  0.436049 -0.171464  1.738412 -0.406810\n",
       "8 -0.165752  0.144486  1.949172 -0.072775\n",
       "9  1.426334 -0.271524  0.369786  0.466841"
      ]
     },
     "execution_count": 79,
     "metadata": {},
     "output_type": "execute_result"
    }
   ],
   "source": [
    "# Numpy의 randn 함수를 통해 10X4 Matrix를 Pandas의 DataFrame으로 생성\n",
    "df = pd.DataFrame(np.random.randn(10,4))\n",
    "print (df)\n",
    "\n",
    "# 만들어놓은 DataFrame을 조각화\n",
    "pieces = [df[:3], df[3:7], df[7:]]\n",
    "\n",
    "# 조각화 시킨 DataFrame을 다시 하나로 합친다.\n",
    "pd.concat(pieces)"
   ]
  },
  {
   "cell_type": "markdown",
   "metadata": {},
   "source": [
    "### Join\n",
    "#### SQL Style로 merge"
   ]
  },
  {
   "cell_type": "code",
   "execution_count": 81,
   "metadata": {
    "collapsed": false
   },
   "outputs": [
    {
     "name": "stdout",
     "output_type": "stream",
     "text": [
      "   key  lval\n",
      "0  foo     1\n",
      "1  foo     2\n",
      "   key  rval\n",
      "0  foo     4\n",
      "1  foo     5\n"
     ]
    },
    {
     "data": {
      "text/html": [
       "<div>\n",
       "<table border=\"1\" class=\"dataframe\">\n",
       "  <thead>\n",
       "    <tr style=\"text-align: right;\">\n",
       "      <th></th>\n",
       "      <th>key</th>\n",
       "      <th>lval</th>\n",
       "      <th>rval</th>\n",
       "    </tr>\n",
       "  </thead>\n",
       "  <tbody>\n",
       "    <tr>\n",
       "      <th>0</th>\n",
       "      <td>foo</td>\n",
       "      <td>1</td>\n",
       "      <td>4</td>\n",
       "    </tr>\n",
       "    <tr>\n",
       "      <th>1</th>\n",
       "      <td>foo</td>\n",
       "      <td>1</td>\n",
       "      <td>5</td>\n",
       "    </tr>\n",
       "    <tr>\n",
       "      <th>2</th>\n",
       "      <td>foo</td>\n",
       "      <td>2</td>\n",
       "      <td>4</td>\n",
       "    </tr>\n",
       "    <tr>\n",
       "      <th>3</th>\n",
       "      <td>foo</td>\n",
       "      <td>2</td>\n",
       "      <td>5</td>\n",
       "    </tr>\n",
       "  </tbody>\n",
       "</table>\n",
       "</div>"
      ],
      "text/plain": [
       "   key  lval  rval\n",
       "0  foo     1     4\n",
       "1  foo     1     5\n",
       "2  foo     2     4\n",
       "3  foo     2     5"
      ]
     },
     "execution_count": 81,
     "metadata": {},
     "output_type": "execute_result"
    }
   ],
   "source": [
    "left = pd.DataFrame({'key':['foo','foo'],'lval':[1,2]})\n",
    "right = pd.DataFrame({'key':['foo','foo'],'rval':[4,5]})\n",
    "print (left)\n",
    "print (right)\n",
    "\n",
    "pd.merge(left,right,on='key')"
   ]
  },
  {
   "cell_type": "markdown",
   "metadata": {},
   "source": [
    "### Append"
   ]
  },
  {
   "cell_type": "code",
   "execution_count": 86,
   "metadata": {
    "collapsed": false
   },
   "outputs": [
    {
     "data": {
      "text/html": [
       "<div>\n",
       "<table border=\"1\" class=\"dataframe\">\n",
       "  <thead>\n",
       "    <tr style=\"text-align: right;\">\n",
       "      <th></th>\n",
       "      <th>A</th>\n",
       "      <th>B</th>\n",
       "      <th>C</th>\n",
       "      <th>D</th>\n",
       "    </tr>\n",
       "  </thead>\n",
       "  <tbody>\n",
       "    <tr>\n",
       "      <th>0</th>\n",
       "      <td>0.388488</td>\n",
       "      <td>0.929263</td>\n",
       "      <td>0.627330</td>\n",
       "      <td>0.291094</td>\n",
       "    </tr>\n",
       "    <tr>\n",
       "      <th>1</th>\n",
       "      <td>0.693096</td>\n",
       "      <td>-0.068873</td>\n",
       "      <td>1.139030</td>\n",
       "      <td>-0.621774</td>\n",
       "    </tr>\n",
       "    <tr>\n",
       "      <th>2</th>\n",
       "      <td>-2.058408</td>\n",
       "      <td>0.811655</td>\n",
       "      <td>-0.800472</td>\n",
       "      <td>0.633595</td>\n",
       "    </tr>\n",
       "    <tr>\n",
       "      <th>3</th>\n",
       "      <td>-0.686798</td>\n",
       "      <td>-1.259489</td>\n",
       "      <td>-1.135758</td>\n",
       "      <td>-0.251420</td>\n",
       "    </tr>\n",
       "    <tr>\n",
       "      <th>4</th>\n",
       "      <td>-1.342248</td>\n",
       "      <td>-0.321914</td>\n",
       "      <td>-1.468143</td>\n",
       "      <td>0.217918</td>\n",
       "    </tr>\n",
       "    <tr>\n",
       "      <th>5</th>\n",
       "      <td>0.234696</td>\n",
       "      <td>-0.665446</td>\n",
       "      <td>-1.031912</td>\n",
       "      <td>-0.437965</td>\n",
       "    </tr>\n",
       "    <tr>\n",
       "      <th>6</th>\n",
       "      <td>-1.022874</td>\n",
       "      <td>0.285455</td>\n",
       "      <td>-1.313289</td>\n",
       "      <td>0.763570</td>\n",
       "    </tr>\n",
       "    <tr>\n",
       "      <th>7</th>\n",
       "      <td>-0.069454</td>\n",
       "      <td>1.107553</td>\n",
       "      <td>1.725324</td>\n",
       "      <td>0.186916</td>\n",
       "    </tr>\n",
       "    <tr>\n",
       "      <th>8</th>\n",
       "      <td>-0.686798</td>\n",
       "      <td>-1.259489</td>\n",
       "      <td>-1.135758</td>\n",
       "      <td>-0.251420</td>\n",
       "    </tr>\n",
       "  </tbody>\n",
       "</table>\n",
       "</div>"
      ],
      "text/plain": [
       "          A         B         C         D\n",
       "0  0.388488  0.929263  0.627330  0.291094\n",
       "1  0.693096 -0.068873  1.139030 -0.621774\n",
       "2 -2.058408  0.811655 -0.800472  0.633595\n",
       "3 -0.686798 -1.259489 -1.135758 -0.251420\n",
       "4 -1.342248 -0.321914 -1.468143  0.217918\n",
       "5  0.234696 -0.665446 -1.031912 -0.437965\n",
       "6 -1.022874  0.285455 -1.313289  0.763570\n",
       "7 -0.069454  1.107553  1.725324  0.186916\n",
       "8 -0.686798 -1.259489 -1.135758 -0.251420"
      ]
     },
     "execution_count": 86,
     "metadata": {},
     "output_type": "execute_result"
    }
   ],
   "source": [
    "df= pd.DataFrame(np.random.randn(8,4),columns=['A','B','C','D'])\n",
    "\n",
    "\n",
    "s = df.iloc[3]\n",
    "\n",
    "df.append(s,ignore_index=True)"
   ]
  },
  {
   "cell_type": "markdown",
   "metadata": {},
   "source": [
    "## Grouping"
   ]
  },
  {
   "cell_type": "code",
   "execution_count": 92,
   "metadata": {
    "collapsed": false
   },
   "outputs": [
    {
     "data": {
      "text/html": [
       "<div>\n",
       "<table border=\"1\" class=\"dataframe\">\n",
       "  <thead>\n",
       "    <tr style=\"text-align: right;\">\n",
       "      <th></th>\n",
       "      <th>A</th>\n",
       "      <th>B</th>\n",
       "      <th>C</th>\n",
       "      <th>D</th>\n",
       "    </tr>\n",
       "  </thead>\n",
       "  <tbody>\n",
       "    <tr>\n",
       "      <th>0</th>\n",
       "      <td>foo</td>\n",
       "      <td>one</td>\n",
       "      <td>-0.697390</td>\n",
       "      <td>0.979847</td>\n",
       "    </tr>\n",
       "    <tr>\n",
       "      <th>1</th>\n",
       "      <td>bar</td>\n",
       "      <td>one</td>\n",
       "      <td>1.172403</td>\n",
       "      <td>-0.420118</td>\n",
       "    </tr>\n",
       "    <tr>\n",
       "      <th>2</th>\n",
       "      <td>foo</td>\n",
       "      <td>two</td>\n",
       "      <td>0.210556</td>\n",
       "      <td>0.383049</td>\n",
       "    </tr>\n",
       "    <tr>\n",
       "      <th>3</th>\n",
       "      <td>bar</td>\n",
       "      <td>three</td>\n",
       "      <td>-0.679850</td>\n",
       "      <td>-0.555158</td>\n",
       "    </tr>\n",
       "    <tr>\n",
       "      <th>4</th>\n",
       "      <td>foo</td>\n",
       "      <td>two</td>\n",
       "      <td>-1.279617</td>\n",
       "      <td>0.221134</td>\n",
       "    </tr>\n",
       "    <tr>\n",
       "      <th>5</th>\n",
       "      <td>bar</td>\n",
       "      <td>two</td>\n",
       "      <td>0.346481</td>\n",
       "      <td>-0.267030</td>\n",
       "    </tr>\n",
       "    <tr>\n",
       "      <th>6</th>\n",
       "      <td>foo</td>\n",
       "      <td>one</td>\n",
       "      <td>-0.007506</td>\n",
       "      <td>1.636339</td>\n",
       "    </tr>\n",
       "    <tr>\n",
       "      <th>7</th>\n",
       "      <td>foo</td>\n",
       "      <td>three</td>\n",
       "      <td>0.052645</td>\n",
       "      <td>0.317206</td>\n",
       "    </tr>\n",
       "  </tbody>\n",
       "</table>\n",
       "</div>"
      ],
      "text/plain": [
       "     A      B         C         D\n",
       "0  foo    one -0.697390  0.979847\n",
       "1  bar    one  1.172403 -0.420118\n",
       "2  foo    two  0.210556  0.383049\n",
       "3  bar  three -0.679850 -0.555158\n",
       "4  foo    two -1.279617  0.221134\n",
       "5  bar    two  0.346481 -0.267030\n",
       "6  foo    one -0.007506  1.636339\n",
       "7  foo  three  0.052645  0.317206"
      ]
     },
     "execution_count": 92,
     "metadata": {},
     "output_type": "execute_result"
    }
   ],
   "source": [
    "df= pd.DataFrame({'A': ['foo','bar','foo','bar','foo','bar','foo','foo'],\n",
    "                 'B': ['one','one','two','three','two','two','one','three'],\n",
    "                 'C': np.random.randn(8),\n",
    "                 'D': np.random.randn(8)})\n",
    "df"
   ]
  },
  {
   "cell_type": "code",
   "execution_count": 89,
   "metadata": {
    "collapsed": false
   },
   "outputs": [
    {
     "data": {
      "text/html": [
       "<div>\n",
       "<table border=\"1\" class=\"dataframe\">\n",
       "  <thead>\n",
       "    <tr style=\"text-align: right;\">\n",
       "      <th></th>\n",
       "      <th>C</th>\n",
       "      <th>D</th>\n",
       "    </tr>\n",
       "    <tr>\n",
       "      <th>A</th>\n",
       "      <th></th>\n",
       "      <th></th>\n",
       "    </tr>\n",
       "  </thead>\n",
       "  <tbody>\n",
       "    <tr>\n",
       "      <th>bar</th>\n",
       "      <td>-2.995479</td>\n",
       "      <td>-1.992766</td>\n",
       "    </tr>\n",
       "    <tr>\n",
       "      <th>foo</th>\n",
       "      <td>1.873511</td>\n",
       "      <td>1.424302</td>\n",
       "    </tr>\n",
       "  </tbody>\n",
       "</table>\n",
       "</div>"
      ],
      "text/plain": [
       "            C         D\n",
       "A                      \n",
       "bar -2.995479 -1.992766\n",
       "foo  1.873511  1.424302"
      ]
     },
     "execution_count": 89,
     "metadata": {},
     "output_type": "execute_result"
    }
   ],
   "source": [
    "df.groupby('A').sum()"
   ]
  },
  {
   "cell_type": "code",
   "execution_count": 91,
   "metadata": {
    "collapsed": false
   },
   "outputs": [
    {
     "data": {
      "text/html": [
       "<div>\n",
       "<table border=\"1\" class=\"dataframe\">\n",
       "  <thead>\n",
       "    <tr style=\"text-align: right;\">\n",
       "      <th></th>\n",
       "      <th></th>\n",
       "      <th>C</th>\n",
       "      <th>D</th>\n",
       "    </tr>\n",
       "    <tr>\n",
       "      <th>A</th>\n",
       "      <th>B</th>\n",
       "      <th></th>\n",
       "      <th></th>\n",
       "    </tr>\n",
       "  </thead>\n",
       "  <tbody>\n",
       "    <tr>\n",
       "      <th rowspan=\"3\" valign=\"top\">bar</th>\n",
       "      <th>one</th>\n",
       "      <td>-0.275475</td>\n",
       "      <td>-0.198960</td>\n",
       "    </tr>\n",
       "    <tr>\n",
       "      <th>three</th>\n",
       "      <td>-2.099760</td>\n",
       "      <td>-1.005633</td>\n",
       "    </tr>\n",
       "    <tr>\n",
       "      <th>two</th>\n",
       "      <td>-0.620244</td>\n",
       "      <td>-0.788173</td>\n",
       "    </tr>\n",
       "    <tr>\n",
       "      <th rowspan=\"3\" valign=\"top\">foo</th>\n",
       "      <th>one</th>\n",
       "      <td>-0.042942</td>\n",
       "      <td>-0.281871</td>\n",
       "    </tr>\n",
       "    <tr>\n",
       "      <th>three</th>\n",
       "      <td>0.285902</td>\n",
       "      <td>0.911068</td>\n",
       "    </tr>\n",
       "    <tr>\n",
       "      <th>two</th>\n",
       "      <td>1.630551</td>\n",
       "      <td>0.795105</td>\n",
       "    </tr>\n",
       "  </tbody>\n",
       "</table>\n",
       "</div>"
      ],
      "text/plain": [
       "                  C         D\n",
       "A   B                        \n",
       "bar one   -0.275475 -0.198960\n",
       "    three -2.099760 -1.005633\n",
       "    two   -0.620244 -0.788173\n",
       "foo one   -0.042942 -0.281871\n",
       "    three  0.285902  0.911068\n",
       "    two    1.630551  0.795105"
      ]
     },
     "execution_count": 91,
     "metadata": {},
     "output_type": "execute_result"
    }
   ],
   "source": [
    "df.groupby(['A','B']).sum()"
   ]
  },
  {
   "cell_type": "markdown",
   "metadata": {},
   "source": [
    "## Reshaping\n",
    "### pivot Tables"
   ]
  },
  {
   "cell_type": "code",
   "execution_count": 99,
   "metadata": {
    "collapsed": false
   },
   "outputs": [
    {
     "data": {
      "text/html": [
       "<div>\n",
       "<table border=\"1\" class=\"dataframe\">\n",
       "  <thead>\n",
       "    <tr style=\"text-align: right;\">\n",
       "      <th></th>\n",
       "      <th>A</th>\n",
       "      <th>B</th>\n",
       "      <th>C</th>\n",
       "      <th>D</th>\n",
       "      <th>E</th>\n",
       "    </tr>\n",
       "  </thead>\n",
       "  <tbody>\n",
       "    <tr>\n",
       "      <th>0</th>\n",
       "      <td>one</td>\n",
       "      <td>A</td>\n",
       "      <td>foo</td>\n",
       "      <td>1.121918</td>\n",
       "      <td>0.788379</td>\n",
       "    </tr>\n",
       "    <tr>\n",
       "      <th>1</th>\n",
       "      <td>one</td>\n",
       "      <td>B</td>\n",
       "      <td>foo</td>\n",
       "      <td>-0.289203</td>\n",
       "      <td>-0.924078</td>\n",
       "    </tr>\n",
       "    <tr>\n",
       "      <th>2</th>\n",
       "      <td>two</td>\n",
       "      <td>C</td>\n",
       "      <td>foo</td>\n",
       "      <td>-0.327768</td>\n",
       "      <td>1.811946</td>\n",
       "    </tr>\n",
       "    <tr>\n",
       "      <th>3</th>\n",
       "      <td>three</td>\n",
       "      <td>A</td>\n",
       "      <td>bar</td>\n",
       "      <td>0.424865</td>\n",
       "      <td>0.123418</td>\n",
       "    </tr>\n",
       "    <tr>\n",
       "      <th>4</th>\n",
       "      <td>one</td>\n",
       "      <td>B</td>\n",
       "      <td>bar</td>\n",
       "      <td>-0.445643</td>\n",
       "      <td>1.372170</td>\n",
       "    </tr>\n",
       "    <tr>\n",
       "      <th>5</th>\n",
       "      <td>one</td>\n",
       "      <td>C</td>\n",
       "      <td>bar</td>\n",
       "      <td>-1.241206</td>\n",
       "      <td>0.523993</td>\n",
       "    </tr>\n",
       "    <tr>\n",
       "      <th>6</th>\n",
       "      <td>two</td>\n",
       "      <td>A</td>\n",
       "      <td>foo</td>\n",
       "      <td>-0.996151</td>\n",
       "      <td>0.321825</td>\n",
       "    </tr>\n",
       "    <tr>\n",
       "      <th>7</th>\n",
       "      <td>three</td>\n",
       "      <td>B</td>\n",
       "      <td>foo</td>\n",
       "      <td>-1.388309</td>\n",
       "      <td>0.182407</td>\n",
       "    </tr>\n",
       "    <tr>\n",
       "      <th>8</th>\n",
       "      <td>one</td>\n",
       "      <td>C</td>\n",
       "      <td>foo</td>\n",
       "      <td>-2.006246</td>\n",
       "      <td>0.113502</td>\n",
       "    </tr>\n",
       "    <tr>\n",
       "      <th>9</th>\n",
       "      <td>one</td>\n",
       "      <td>A</td>\n",
       "      <td>bar</td>\n",
       "      <td>0.424462</td>\n",
       "      <td>-0.393351</td>\n",
       "    </tr>\n",
       "    <tr>\n",
       "      <th>10</th>\n",
       "      <td>two</td>\n",
       "      <td>B</td>\n",
       "      <td>bar</td>\n",
       "      <td>1.610858</td>\n",
       "      <td>-0.792292</td>\n",
       "    </tr>\n",
       "    <tr>\n",
       "      <th>11</th>\n",
       "      <td>three</td>\n",
       "      <td>C</td>\n",
       "      <td>bar</td>\n",
       "      <td>-0.498150</td>\n",
       "      <td>0.722557</td>\n",
       "    </tr>\n",
       "  </tbody>\n",
       "</table>\n",
       "</div>"
      ],
      "text/plain": [
       "        A  B    C         D         E\n",
       "0     one  A  foo  1.121918  0.788379\n",
       "1     one  B  foo -0.289203 -0.924078\n",
       "2     two  C  foo -0.327768  1.811946\n",
       "3   three  A  bar  0.424865  0.123418\n",
       "4     one  B  bar -0.445643  1.372170\n",
       "5     one  C  bar -1.241206  0.523993\n",
       "6     two  A  foo -0.996151  0.321825\n",
       "7   three  B  foo -1.388309  0.182407\n",
       "8     one  C  foo -2.006246  0.113502\n",
       "9     one  A  bar  0.424462 -0.393351\n",
       "10    two  B  bar  1.610858 -0.792292\n",
       "11  three  C  bar -0.498150  0.722557"
      ]
     },
     "execution_count": 99,
     "metadata": {},
     "output_type": "execute_result"
    }
   ],
   "source": [
    "df = pd.DataFrame({'A':['one','one','two','three']*3,\n",
    "                  'B':['A','B','C']*4,\n",
    "                  'C':['foo','foo','foo','bar','bar','bar']*2,\n",
    "                  'D': np.random.randn(12),\n",
    "                  'E': np.random.randn(12)})\n",
    "df"
   ]
  },
  {
   "cell_type": "code",
   "execution_count": 101,
   "metadata": {
    "collapsed": false
   },
   "outputs": [
    {
     "data": {
      "text/html": [
       "<div>\n",
       "<table border=\"1\" class=\"dataframe\">\n",
       "  <thead>\n",
       "    <tr style=\"text-align: right;\">\n",
       "      <th></th>\n",
       "      <th>C</th>\n",
       "      <th>bar</th>\n",
       "      <th>foo</th>\n",
       "    </tr>\n",
       "    <tr>\n",
       "      <th>A</th>\n",
       "      <th>B</th>\n",
       "      <th></th>\n",
       "      <th></th>\n",
       "    </tr>\n",
       "  </thead>\n",
       "  <tbody>\n",
       "    <tr>\n",
       "      <th rowspan=\"3\" valign=\"top\">one</th>\n",
       "      <th>A</th>\n",
       "      <td>0.424462</td>\n",
       "      <td>1.121918</td>\n",
       "    </tr>\n",
       "    <tr>\n",
       "      <th>B</th>\n",
       "      <td>-0.445643</td>\n",
       "      <td>-0.289203</td>\n",
       "    </tr>\n",
       "    <tr>\n",
       "      <th>C</th>\n",
       "      <td>-1.241206</td>\n",
       "      <td>-2.006246</td>\n",
       "    </tr>\n",
       "    <tr>\n",
       "      <th rowspan=\"3\" valign=\"top\">three</th>\n",
       "      <th>A</th>\n",
       "      <td>0.424865</td>\n",
       "      <td>NaN</td>\n",
       "    </tr>\n",
       "    <tr>\n",
       "      <th>B</th>\n",
       "      <td>NaN</td>\n",
       "      <td>-1.388309</td>\n",
       "    </tr>\n",
       "    <tr>\n",
       "      <th>C</th>\n",
       "      <td>-0.498150</td>\n",
       "      <td>NaN</td>\n",
       "    </tr>\n",
       "    <tr>\n",
       "      <th rowspan=\"3\" valign=\"top\">two</th>\n",
       "      <th>A</th>\n",
       "      <td>NaN</td>\n",
       "      <td>-0.996151</td>\n",
       "    </tr>\n",
       "    <tr>\n",
       "      <th>B</th>\n",
       "      <td>1.610858</td>\n",
       "      <td>NaN</td>\n",
       "    </tr>\n",
       "    <tr>\n",
       "      <th>C</th>\n",
       "      <td>NaN</td>\n",
       "      <td>-0.327768</td>\n",
       "    </tr>\n",
       "  </tbody>\n",
       "</table>\n",
       "</div>"
      ],
      "text/plain": [
       "C             bar       foo\n",
       "A     B                    \n",
       "one   A  0.424462  1.121918\n",
       "      B -0.445643 -0.289203\n",
       "      C -1.241206 -2.006246\n",
       "three A  0.424865       NaN\n",
       "      B       NaN -1.388309\n",
       "      C -0.498150       NaN\n",
       "two   A       NaN -0.996151\n",
       "      B  1.610858       NaN\n",
       "      C       NaN -0.327768"
      ]
     },
     "execution_count": 101,
     "metadata": {},
     "output_type": "execute_result"
    }
   ],
   "source": [
    "pd.pivot_table(df,values='D',index=['A','B'],columns=['C'])"
   ]
  },
  {
   "cell_type": "markdown",
   "metadata": {},
   "source": [
    "## Time Series"
   ]
  },
  {
   "cell_type": "code",
   "execution_count": 108,
   "metadata": {
    "collapsed": false
   },
   "outputs": [
    {
     "data": {
      "text/plain": [
       "2012-01-01    22567\n",
       "Freq: 5T, dtype: int64"
      ]
     },
     "execution_count": 108,
     "metadata": {},
     "output_type": "execute_result"
    }
   ],
   "source": [
    "#2012/1/1 에서 100초 받아오기\n",
    "rng = pd.date_range('1/1/2012', periods=100,freq='S')\n",
    "# 만들어 놓은 100초 기준으로 0~500사이의 랜덤한 정수 생성\n",
    "ts = pd.Series(np.random.randint(0,500,len(rng)),index=rng)\n",
    "# 5분단위로 총 합계\n",
    "ts.resample('5Min').sum()"
   ]
  },
  {
   "cell_type": "markdown",
   "metadata": {},
   "source": [
    "# Plotting"
   ]
  },
  {
   "cell_type": "markdown",
   "metadata": {},
   "source": [
    "Plotting은 따로 빼서 정리!"
   ]
  }
 ],
 "metadata": {
  "anaconda-cloud": {},
  "kernelspec": {
   "display_name": "Python [Root]",
   "language": "python",
   "name": "Python [Root]"
  },
  "language_info": {
   "codemirror_mode": {
    "name": "ipython",
    "version": 3
   },
   "file_extension": ".py",
   "mimetype": "text/x-python",
   "name": "python",
   "nbconvert_exporter": "python",
   "pygments_lexer": "ipython3",
   "version": "3.5.2"
  }
 },
 "nbformat": 4,
 "nbformat_minor": 0
}
